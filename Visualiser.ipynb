{
 "cells": [
  {
   "cell_type": "code",
   "execution_count": 1,
   "metadata": {},
   "outputs": [],
   "source": [
    "from rnn import FullyConnectedRNN\n",
    "# from optimizers import MicrobialGA\n",
    "import gym\n",
    "import tensorflow as tf\n"
   ]
  },
  {
   "cell_type": "code",
   "execution_count": 2,
   "metadata": {},
   "outputs": [
    {
     "name": "stderr",
     "output_type": "stream",
     "text": [
      "[2018-02-08 20:53:40,391] Making new env: Pendulum-v0\n"
     ]
    }
   ],
   "source": [
    "n = 10 # number of nodes to test\n",
    "\n",
    "# Set up real world / OpenAI enviroment\n",
    "ENV_NAME = 'Pendulum-v0' \n",
    "env = gym.make(ENV_NAME)\n",
    "EPISODES = 3  # Number of times to run envionrment when evaluating\n",
    "STEPS = 200  # Max number of steps to run run simulation\n",
    "observation_space = env.observation_space.shape[0]  # Input to controller (observ.)\n",
    "action_space = env.action_space.shape[0]  # Output from controller (action)\n",
    "\n",
    "# for nodes in range(1,n+1): # number of nodes to test\n",
    "    \n",
    "#     print('Testing with {} nodes'.format(nodes))\n",
    "#     tf.reset_default_graph()\n",
    "    \n",
    "#     dt = 1 # Works the best, 0.05 causes it to vanish\n",
    "    \n",
    "#     # Real world\n",
    "    \n",
    "#     # Make simulator\n",
    "    \n",
    "#     # Make optimizer (GA)\n",
    "    \n",
    "#     # Pass simulator to optimizer\n",
    "    \n",
    "    \n",
    "#     # Make Agent\n",
    "# #     agent = FullyConnectedRNN(observation_space,action_space, nodes)\n",
    "    \n",
    "#     # Optimize in agent, get \n",
    "    \n",
    "    \n",
    "#     # Print results\n",
    "\n"
   ]
  },
  {
   "cell_type": "code",
   "execution_count": 13,
   "metadata": {},
   "outputs": [],
   "source": [
    "from optimizers import MicrobialGA"
   ]
  },
  {
   "cell_type": "code",
   "execution_count": 14,
   "metadata": {},
   "outputs": [],
   "source": [
    "nodes = 3\n",
    "tf.reset_default_graph() # Use to clear all variables in the tensorflow graph! before uploading different weights\n",
    "agent = FullyConnectedRNN(observation_space,action_space, nodes)\n",
    "opti = MicrobialGA(env, agent, EPISODES=1, NUM_GEN=100)"
   ]
  },
  {
   "cell_type": "code",
   "execution_count": 15,
   "metadata": {},
   "outputs": [
    {
     "name": "stdout",
     "output_type": "stream",
     "text": [
      "Initializing population.\n",
      "[-1753.1875]\n",
      "[-1723.17358398]\n",
      "[-1432.28735352]\n",
      "[-1526.56677246]\n",
      "[-1508.68151855]\n",
      "[-1293.63146973]\n",
      "[-1492.97485352]\n",
      "[-1786.18151855]\n",
      "[-1577.92480469]\n",
      "[-1700.48840332]\n",
      "[-1555.07556152]\n",
      "[-1778.07043457]\n",
      "[-1582.0546875]\n",
      "[-1495.30749512]\n",
      "[-1238.87487793]\n",
      "[-1341.08972168]\n",
      "Running generation 1\n",
      "[-1611.09790039]\n",
      "Running generation 2\n",
      "[-1854.28637695]\n",
      "Running generation 3\n",
      "[-1328.86999512]\n",
      "Running generation 4\n",
      "[-1778.83178711]\n",
      "Running generation 5\n",
      "[-1471.10998535]\n",
      "Running generation 6\n",
      "[-1859.05969238]\n",
      "Running generation 7\n",
      "[-1324.59448242]\n",
      "Running generation 8\n",
      "[-1645.63220215]\n",
      "Running generation 9\n",
      "[-1750.18041992]\n",
      "Running generation 10\n",
      "[-1278.44958496]\n",
      "Running generation 11\n",
      "[-1364.61083984]\n",
      "Running generation 12\n",
      "[-1560.96142578]\n",
      "Running generation 13\n",
      "[-1451.30932617]\n",
      "Running generation 14\n",
      "[-1954.4017334]\n",
      "Running generation 15\n",
      "[-1166.92321777]\n",
      "Running generation 16\n",
      "[-1755.06066895]\n",
      "Running generation 17\n",
      "[-1364.00439453]\n",
      "Running generation 18\n",
      "[-1691.43017578]\n",
      "Running generation 19\n",
      "[-1322.26269531]\n",
      "Running generation 20\n",
      "[-1560.39257812]\n",
      "Running generation 21\n",
      "[-1336.6361084]\n",
      "Running generation 22\n",
      "[-1330.14294434]\n",
      "Running generation 23\n",
      "[-1481.19934082]\n",
      "Running generation 24\n",
      "[-1688.27478027]\n",
      "Running generation 25\n",
      "[-1434.98291016]\n",
      "Running generation 26\n",
      "[-1560.78015137]\n",
      "Running generation 27\n",
      "[-1856.57775879]\n",
      "Running generation 28\n",
      "[-1826.1072998]\n",
      "Running generation 29\n",
      "[-1549.35327148]\n",
      "Running generation 30\n",
      "[-1580.49682617]\n",
      "Running generation 31\n",
      "[-1447.81030273]\n",
      "Running generation 32\n",
      "[-1293.91918945]\n",
      "Running generation 33\n",
      "[-1504.6685791]\n",
      "Running generation 34\n",
      "[-1239.28540039]\n",
      "Running generation 35\n",
      "[-1814.9510498]\n",
      "Running generation 36\n",
      "[-1355.51379395]\n",
      "Running generation 37\n",
      "[-1264.24768066]\n",
      "Running generation 38\n",
      "[-1592.55310059]\n",
      "Running generation 39\n",
      "[-1430.85351562]\n",
      "Running generation 40\n",
      "[-1204.36853027]\n",
      "Running generation 41\n",
      "[-1623.29248047]\n",
      "Running generation 42\n",
      "[-1330.51452637]\n",
      "Running generation 43\n",
      "[-894.15368652]\n",
      "Running generation 44\n",
      "[-915.5881958]\n",
      "Running generation 45\n",
      "[-1807.72692871]\n",
      "Running generation 46\n",
      "[-947.9329834]\n",
      "Running generation 47\n",
      "[-1543.03381348]\n",
      "Running generation 48\n",
      "[-1759.17785645]\n",
      "Running generation 49\n",
      "[-1689.58947754]\n",
      "Running generation 50\n",
      "[-1149.77246094]\n",
      "Running generation 51\n",
      "[-1248.95471191]\n",
      "Running generation 52\n",
      "[-1002.93762207]\n",
      "Running generation 53\n",
      "[-1516.49536133]\n",
      "Running generation 54\n",
      "[-1382.79345703]\n",
      "Running generation 55\n",
      "[-1131.45422363]\n",
      "Running generation 56\n",
      "[-1511.67443848]\n",
      "Running generation 57\n",
      "[-1265.85021973]\n",
      "Running generation 58\n",
      "[-1170.15600586]\n",
      "Running generation 59\n",
      "[-1517.18713379]\n",
      "Running generation 60\n",
      "[-1183.13293457]\n",
      "Running generation 61\n",
      "[-1721.33105469]\n",
      "Running generation 62\n",
      "[-1662.76818848]\n",
      "Running generation 63\n",
      "[-1134.79626465]\n",
      "Running generation 64\n",
      "[-1504.00415039]\n",
      "Running generation 65\n",
      "[-1161.9119873]\n",
      "Running generation 66\n",
      "[-1522.51879883]\n",
      "Running generation 67\n",
      "[-1236.83398438]\n",
      "Running generation 68\n",
      "[-1437.86132812]\n",
      "Running generation 69\n",
      "[-1359.05700684]\n",
      "Running generation 70\n",
      "[-1028.56066895]\n",
      "Running generation 71\n",
      "[-1428.9041748]\n",
      "Running generation 72\n",
      "[-1143.21203613]\n",
      "Running generation 73\n",
      "[-1354.31152344]\n",
      "Running generation 74\n",
      "[-1036.81884766]\n",
      "Running generation 75\n",
      "[-1081.50830078]\n",
      "Running generation 76\n",
      "[-1757.95983887]\n",
      "Running generation 77\n",
      "[-1076.63598633]\n",
      "Running generation 78\n",
      "[-1937.26220703]\n",
      "Running generation 79\n",
      "[-1303.18017578]\n",
      "Running generation 80\n",
      "[-1136.91650391]\n",
      "Running generation 81\n",
      "[-1112.92407227]\n",
      "Running generation 82\n",
      "[-1221.67199707]\n",
      "Running generation 83\n",
      "[-1558.04260254]\n",
      "Running generation 84\n",
      "[-1170.68859863]\n",
      "Running generation 85\n",
      "[-1575.02697754]\n",
      "Running generation 86\n",
      "[-1589.56347656]\n",
      "Running generation 87\n",
      "[-998.40966797]\n",
      "Running generation 88\n",
      "[-1352.24597168]\n",
      "Running generation 89\n",
      "[-1111.84558105]\n",
      "Running generation 90\n",
      "[-983.91149902]\n",
      "Running generation 91\n",
      "[-1290.64404297]\n",
      "Running generation 92\n",
      "[-1212.80090332]\n",
      "Running generation 93\n",
      "[-973.30987549]\n",
      "Running generation 94\n",
      "[-1385.62915039]\n",
      "Running generation 95\n",
      "[-1388.53405762]\n",
      "Running generation 96\n",
      "[-1489.70300293]\n",
      "Running generation 97\n",
      "[-1904.63928223]\n",
      "Running generation 98\n",
      "[-1322.67321777]\n",
      "Running generation 99\n",
      "[-1252.15527344]\n",
      "Running generation 100\n",
      "[-1011.9744873]\n",
      "Completed optimization.\n"
     ]
    }
   ],
   "source": [
    "pop = opti.run()"
   ]
  },
  {
   "cell_type": "code",
   "execution_count": 6,
   "metadata": {},
   "outputs": [
    {
     "data": {
      "text/plain": [
       "<rnn.FullyConnectedRNN at 0x11dd4a198>"
      ]
     },
     "execution_count": 6,
     "metadata": {},
     "output_type": "execute_result"
    }
   ],
   "source": [
    "opti.agent"
   ]
  },
  {
   "cell_type": "markdown",
   "metadata": {},
   "source": [
    "When the model pendulum v0 environment starts it's Starting State is:\n",
    "\n",
    "- Random angle from -pi to pi, and random velocity between -1 and 1"
   ]
  },
  {
   "cell_type": "code",
   "execution_count": 11,
   "metadata": {},
   "outputs": [
    {
     "data": {
      "text/plain": [
       "<deap.tools.support.Statistics at 0x1188cc5f8>"
      ]
     },
     "execution_count": 11,
     "metadata": {},
     "output_type": "execute_result"
    }
   ],
   "source": [
    "opti.stats.compile"
   ]
  },
  {
   "cell_type": "code",
   "execution_count": 12,
   "metadata": {},
   "outputs": [
    {
     "data": {
      "text/plain": [
       "functools.partial(<function initRepeat at 0x117525f28>, <class 'list'>, functools.partial(<function initIterate at 0x11752f048>, <class 'deap.creator.Individual'>, functools.partial(<function MicrobialGA.__init__.<locals>.<lambda> at 0x117f55f28>, 21)))"
      ]
     },
     "execution_count": 12,
     "metadata": {},
     "output_type": "execute_result"
    }
   ],
   "source": [
    "opti.toolbox.population"
   ]
  },
  {
   "cell_type": "code",
   "execution_count": 22,
   "metadata": {},
   "outputs": [
    {
     "data": {
      "text/plain": [
       "(-983.9114990234375,)"
      ]
     },
     "execution_count": 22,
     "metadata": {},
     "output_type": "execute_result"
    }
   ],
   "source": [
    "pop[1].fitness.values"
   ]
  },
  {
   "cell_type": "code",
   "execution_count": null,
   "metadata": {},
   "outputs": [],
   "source": []
  }
 ],
 "metadata": {
  "kernelspec": {
   "display_name": "Python [conda env:pendulum_v0_py3]",
   "language": "python",
   "name": "conda-env-pendulum_v0_py3-py"
  },
  "language_info": {
   "codemirror_mode": {
    "name": "ipython",
    "version": 3
   },
   "file_extension": ".py",
   "mimetype": "text/x-python",
   "name": "python",
   "nbconvert_exporter": "python",
   "pygments_lexer": "ipython3",
   "version": "3.6.2"
  }
 },
 "nbformat": 4,
 "nbformat_minor": 2
}
