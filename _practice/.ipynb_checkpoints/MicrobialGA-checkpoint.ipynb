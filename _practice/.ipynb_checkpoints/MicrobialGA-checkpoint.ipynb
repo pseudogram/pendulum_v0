{
 "cells": [
  {
   "cell_type": "markdown",
   "metadata": {},
   "source": [
    "# Knapsack Problem\n",
    "\n",
    "This is an explaination of how to create Genetica algorithm in DEAP to solve the **knapsack problem**. Included are explainations of what each class/fucntion is doing."
   ]
  },
  {
   "cell_type": "markdown",
   "metadata": {},
   "source": [
    "### Create a Fitness class and Individual class\n",
    "The `creator.create` function is for creating new classes. Once created the class can bea accessed using `creator.<class_name>`"
   ]
  },
  {
   "cell_type": "code",
   "execution_count": 23,
   "metadata": {},
   "outputs": [],
   "source": [
    "from deap import creator\n",
    "from deap import base\n",
    "from deap import tools\n",
    "import numpy as np\n",
    "import random\n",
    "\n",
    "# Creates a Fitness class, with a weights attirbute.\n",
    "#    1 means a metric that needs to be maximized = the value\n",
    "creator.create(\"FitnessMax\", base.Fitness, weights=(1.0,))\n",
    "\n",
    "# Creates a class Individual, that is based on a numpy array as that is the\n",
    "# class used for the weights passed to tensorflow.\n",
    "#   It also has an attribute that is a Fitness, when setting the attribute\n",
    "#   it automatically calls the __init__() in Fitness initializing the\n",
    "#   weight (1)\n",
    "creator.create(\"Individual\", list, fitness=creator.FitnessMax)\n"
   ]
  },
  {
   "cell_type": "markdown",
   "metadata": {},
   "source": [
    "# IGNORE\n",
    "### Gererate the items\n",
    "Create a set of random Items to be used to add to the knapsack.\n",
    "The items will be entered into a dictionary indexed by integers."
   ]
  },
  {
   "cell_type": "markdown",
   "metadata": {},
   "source": [
    "# IGNORE\n",
    "# convert to code if needed\n",
    "\n",
    "# Create the item dictionary: item name is an integer, and value is \n",
    "# a (weight, value) 2-uple.\n",
    "items = {}\n",
    "NUM_ITEMS = 10\n",
    "# Create random items and store them in the items' dictionary.\n",
    "for i in range(NUM_ITEMS):\n",
    "    items[i] = (random.randint(1, 10), random.uniform(0, 100))"
   ]
  },
  {
   "cell_type": "markdown",
   "metadata": {},
   "source": [
    "import pprint\n",
    "pprint.pprint(items)"
   ]
  },
  {
   "cell_type": "markdown",
   "metadata": {},
   "source": [
    "### Create evolutionary algorithms\n",
    "The `base.Toolbox` class is used create evolutionary operators/functions.\n",
    "\n",
    "`tools.initRepeat` takes a container class and applies the following function, a number of times.\n",
    "\n",
    "\n",
    "Looking at the RNN implementation:\n",
    "- num_inputs = 3  # Number of Values output by the simulation\n",
    "- num_outputs = 1 # OpenAI env takes a single controller input, thus the controller network must output only one.\n",
    "- num_nodes = num_inputs+1  # Number of nodes in the network (must be >=nump_inputs)\n",
    "\n",
    "And the number of weights is equal to:\n",
    "<break>`(num_nodes+num_outputs)*num_nodes`"
   ]
  },
  {
   "cell_type": "code",
   "execution_count": 34,
   "metadata": {},
   "outputs": [],
   "source": [
    "toolbox = base.Toolbox()\n",
    "\n",
    "# Create a function 'attr_item' to return the 'ID' of one item\n",
    "# num_nodes = num_inputs+1 = 20\n",
    "NUM_NODES = 20\n",
    "\n",
    "# create a function 'individual'. It takes an individual and instantiates \n",
    "#   it with a numpy array of size, NUM_NODES and type float32\n",
    "toolbox.register(\"attr_floats\", lambda n: np.random.rand(n).astype(np.float32)*0.1, NUM_NODES)\n",
    "toolbox.register(\"individual\", tools.initIterate, creator.Individual, toolbox.attr_floats)\n",
    "\n",
    "# # create a function 'population' that generates a list of individuals, x long.\n",
    "# #   NB: As repeat init takes 3 parameters, and as the first 2 have been given.\n",
    "# #       only one is needed.\n",
    "toolbox.register(\"population\", tools.initRepeat, list, toolbox.individual)\n"
   ]
  },
  {
   "cell_type": "markdown",
   "metadata": {},
   "source": [
    "The last thing to do is to define an Evaluation/Fitness function."
   ]
  },
  {
   "cell_type": "code",
   "execution_count": 48,
   "metadata": {},
   "outputs": [],
   "source": [
    "def evalKnapsack(individual,MAX_REWARD = 0):\n",
    "    value = 0.0\n",
    "    \n",
    "    for item in individual:\n",
    "        value+=item             # Ensure overweighted bags are dominated\n",
    "    return val"
   ]
  },
  {
   "cell_type": "markdown",
   "metadata": {},
   "source": [
    "Then applying crosover/ mating."
   ]
  },
  {
   "cell_type": "code",
   "execution_count": 49,
   "metadata": {},
   "outputs": [],
   "source": [
    "\n",
    "def cross(ind1, ind2):\n",
    "    \"\"\"Apply a crossover operation on input sets. The first child is the\n",
    "    intersection of the two sets, the second child is the difference of the\n",
    "    two sets.\n",
    "    \n",
    "    Is ind1 the winner or ind2???\n",
    "    \"\"\"\n",
    "    for x in range(len(ind1)):\n",
    "        if random()<0.5:\n",
    "            ind2[x] = ind1[x]# Used in order to keep type\n",
    "                  # Symmetric Difference (inplace)\n",
    "    return ind1, ind2"
   ]
  },
  {
   "cell_type": "markdown",
   "metadata": {},
   "source": [
    "Add or remove a random item."
   ]
  },
  {
   "cell_type": "code",
   "execution_count": 54,
   "metadata": {},
   "outputs": [],
   "source": [
    "def mutate(individual):\n",
    "    \"\"\"Mutation that pops or add an element.\"\"\"\n",
    "#     if random.random() < (1/len(individual)):\n",
    "\n",
    "    # Select one gene\n",
    "    index = random.randint(0,len(individual)-1)\n",
    "    individual[index] *= (np.random.randn()*0.0025)\n",
    "    \n",
    "    return individual"
   ]
  },
  {
   "cell_type": "markdown",
   "metadata": {},
   "source": [
    "Since we are using a multi-objective problem we have selected the SPEA-II selection scheme... wtf."
   ]
  },
  {
   "cell_type": "code",
   "execution_count": 55,
   "metadata": {},
   "outputs": [],
   "source": [
    "toolbox.register(\"evaluate\", evalKnapsack)\n",
    "toolbox.register(\"mate\", cross)\n",
    "toolbox.register(\"mutate\", mutate)\n",
    "toolbox.register(\"select\", tools.selNSGA2)"
   ]
  },
  {
   "cell_type": "code",
   "execution_count": 56,
   "metadata": {},
   "outputs": [],
   "source": [
    "import numpy\n",
    "from deap import algorithms\n",
    "\n",
    "def main():\n",
    "    NGEN = 50  # Number of Generations\n",
    "    MU = 50  # Number of Individuals in population\n",
    "    LAMBDA = 100  # \n",
    "    CXPB = 0.7\n",
    "    MUTPB = 0.2\n",
    "    \n",
    "    pop = toolbox.population(n=MU)\n",
    "    hof = tools.ParetoFront()\n",
    "    stats = tools.Statistics(lambda ind: ind.fitness.values)\n",
    "    stats.register(\"avg\", numpy.mean, axis=0)\n",
    "    stats.register(\"std\", numpy.std, axis=0)\n",
    "    stats.register(\"min\", numpy.min, axis=0)\n",
    "    stats.register(\"max\", numpy.max, axis=0)\n",
    "    \n",
    "    algorithms.eaMuPlusLambda(pop, toolbox, MU, LAMBDA, CXPB, MUTPB, NGEN, stats,\n",
    "                              halloffame=hof)\n",
    "    \n",
    "    return pop, stats, hof"
   ]
  },
  {
   "cell_type": "code",
   "execution_count": 58,
   "metadata": {},
   "outputs": [
    {
     "name": "stdout",
     "output_type": "stream",
     "text": [
      "gen\tnevals\tavg                            \tstd                            \tmin      \tmax                            \n",
      "0  \t50    \t[ 5207.44          47.33092846]\t[ 4988.25529082    57.4485021 ]\t[ 7.  0.]\t[ 10000.           179.0830052]\n",
      "1  \t84    \t[  7.88        74.95401763]    \t[  7.16837499  63.71699196]    \t[ 0.  0.]\t[  21.         179.0830052]    \n",
      "2  \t94    \t[  7.9         77.61121567]    \t[  7.93536389  72.25254807]    \t[ 0.  0.]\t[  19.         179.0830052]    \n",
      "3  \t88    \t[ 10.          98.10918311]    \t[  7.85111457  70.62544367]    \t[ 0.  0.]\t[  19.         179.0830052]    \n",
      "4  \t91    \t[  9.28        93.33190162]    \t[  8.09701179  75.86114994]    \t[ 0.  0.]\t[  19.         179.0830052]    \n",
      "5  \t86    \t[  13.4        132.3411189]    \t[  6.96562991  61.28030416]    \t[ 0.  0.]\t[  19.         179.0830052]    \n",
      "6  \t85    \t[  13.48        134.32783649]  \t[  6.69399731  58.17670537]    \t[ 0.  0.]\t[  19.         179.0830052]    \n",
      "7  \t87    \t[  13.16        131.53887782]  \t[  6.86253597  60.11827818]    \t[ 0.  0.]\t[  19.         179.0830052]    \n",
      "8  \t93    \t[  13.12        130.86933817]  \t[  7.09264408  61.23141833]    \t[ 0.  0.]\t[  19.         179.0830052]    \n",
      "9  \t91    \t[  14.56        144.35054436]  \t[  6.4254494   54.46957366]    \t[ 0.  0.]\t[  19.         179.0830052]    \n",
      "10 \t90    \t[  13.62        136.39805866]  \t[  6.76724464  58.43738643]    \t[ 0.  0.]\t[  19.         179.0830052]    \n",
      "11 \t87    \t[  13.28        133.97410679]  \t[  6.60012121  57.35802036]    \t[ 0.  0.]\t[  19.         179.0830052]    \n",
      "12 \t84    \t[  14.6         143.46294286]  \t[  6.63324958  56.99315794]    \t[ 0.  0.]\t[  19.         179.0830052]    \n",
      "13 \t88    \t[  13.          130.13440209]  \t[  7.29383301  63.45450579]    \t[ 0.  0.]\t[  19.         179.0830052]    \n",
      "14 \t90    \t[  13.1         131.48307553]  \t[  7.05762     61.01500821]    \t[ 0.  0.]\t[  19.         179.0830052]    \n",
      "15 \t89    \t[  14.24        142.24726184]  \t[  6.34211321  54.04961833]    \t[ 0.  0.]\t[  19.         179.0830052]    \n",
      "16 \t87    \t[  13.34        135.04025754]  \t[  6.5745266   56.89885101]    \t[ 0.  0.]\t[  19.         179.0830052]    \n",
      "17 \t91    \t[  12.42        128.98342101]  \t[  6.39715562  54.67857674]    \t[ 0.  0.]\t[  19.         179.0830052]    \n",
      "18 \t90    \t[  12.44        130.44860656]  \t[  6.15519293  51.72575323]    \t[ 0.  0.]\t[  19.         179.0830052]    \n",
      "19 \t90    \t[  12.6         130.07730884]  \t[  6.73201307  57.55464882]    \t[ 0.  0.]\t[  19.         179.0830052]    \n",
      "20 \t93    \t[  12.94        131.90056078]  \t[  6.60124231  56.86204751]    \t[ 0.  0.]\t[  19.         179.0830052]    \n",
      "21 \t94    \t[  12.32        127.10300599]  \t[  6.58920329  57.39148371]    \t[ 0.  0.]\t[  19.         179.0830052]    \n",
      "22 \t92    \t[  11.8        124.1334814]    \t[  6.28331123  54.77877025]    \t[ 0.  0.]\t[  19.         179.0830052]    \n",
      "23 \t88    \t[  11.4         120.28004507]  \t[  6.32455532  54.96385822]    \t[ 0.  0.]\t[  19.         179.0830052]    \n",
      "24 \t83    \t[  10.66        115.31596538]  \t[  6.11100646  52.99694998]    \t[ 0.  0.]\t[  19.         179.0830052]    \n",
      "25 \t92    \t[  12.86        129.03094154]  \t[  7.20558117  62.85978154]    \t[ 0.  0.]\t[  19.         179.0830052]    \n",
      "26 \t91    \t[  13.28        133.96843413]  \t[  6.96574476  59.83697719]    \t[ 0.  0.]\t[  19.         179.0830052]    \n",
      "27 \t89    \t[  13.22        134.92552239]  \t[  6.72098207  56.34133537]    \t[ 0.  0.]\t[  19.         179.0830052]    \n",
      "28 \t90    \t[  13.54        137.55363018]  \t[  6.51524366  54.6709803 ]    \t[ 0.  0.]\t[  19.         179.0830052]    \n",
      "29 \t89    \t[  12.46        127.66705445]  \t[  6.96910324  60.29958181]    \t[ 0.  0.]\t[  19.         179.0830052]    \n",
      "30 \t89    \t[  13.48        137.49200634]  \t[  6.55512014  55.87200516]    \t[ 0.  0.]\t[  19.         179.0830052]    \n",
      "31 \t88    \t[  12.08        126.11949627]  \t[  6.71964285  58.21806404]    \t[ 0.  0.]\t[  19.         179.0830052]    \n",
      "32 \t95    \t[  12.14        127.75752669]  \t[  6.41251901  55.52569542]    \t[ 0.  0.]\t[  20.          184.06324853]  \n",
      "33 \t88    \t[  7.24        81.44262143]    \t[  6.4453394   66.08605695]    \t[ 0.  0.]\t[  20.          184.06324853]  \n",
      "34 \t94    \t[  7.68        86.75848833]    \t[  6.42632088  64.51445437]    \t[ 0.  0.]\t[  20.          184.06324853]  \n",
      "35 \t89    \t[  6.1         69.65885615]    \t[  6.4691576   65.58502403]    \t[ 0.  0.]\t[  20.          184.06324853]  \n",
      "36 \t88    \t[  6.8         77.61577521]    \t[  6.56353563  66.15767219]    \t[ 0.  0.]\t[  20.          184.06324853]  \n",
      "37 \t88    \t[  6.46        69.41477796]    \t[  7.40326955  72.21690877]    \t[ 0.  0.]\t[  20.          184.06324853]  \n",
      "38 \t88    \t[  7.36       78.3093605]      \t[  7.54124658  72.98286847]    \t[ 0.  0.]\t[  20.          184.06324853]  \n",
      "39 \t91    \t[  7.88        84.84382275]    \t[  7.37194683  71.26246785]    \t[ 0.  0.]\t[  20.          184.06324853]  \n",
      "40 \t91    \t[  6.3         70.16449937]    \t[  6.81835757  69.01723733]    \t[ 0.  0.]\t[  20.          184.06324853]  \n",
      "41 \t90    \t[  8.22        95.30592319]    \t[  5.96419316  54.96644462]    \t[ 0.  0.]\t[  20.          184.06324853]  \n",
      "42 \t84    \t[  7.62        84.13743329]    \t[  7.18857427  70.2693181 ]    \t[ 0.  0.]\t[  20.          184.06324853]  \n",
      "43 \t92    \t[   9.92        105.35078796]  \t[  7.55205932  69.88743675]    \t[ 0.  0.]\t[  20.          184.06324853]  \n",
      "44 \t93    \t[  11.48        119.30092186]  \t[  7.44376249  67.336645  ]    \t[ 0.  0.]\t[  20.          184.06324853]  \n",
      "45 \t90    \t[  12.92        133.21118812]  \t[  7.01951565  59.62522233]    \t[ 0.  0.]\t[  20.          184.06324853]  \n",
      "46 \t91    \t[  12.86        133.49941024]  \t[  6.78530766  58.33886264]    \t[ 0.  0.]\t[  20.          184.06324853]  \n",
      "47 \t86    \t[  12.34        131.32934799]  \t[  6.42062302  55.73214829]    \t[ 0.  0.]\t[  20.          184.06324853]  \n",
      "48 \t91    \t[  9.06        99.10699359]    \t[  7.12014045  69.52712428]    \t[ 0.  0.]\t[  20.          184.06324853]  \n",
      "49 \t87    \t[  6.06        67.71256233]    \t[  6.8217593   66.55981893]    \t[ 0.  0.]\t[  20.          184.06324853]  \n",
      "50 \t92    \t[  6.82        75.30898469]    \t[  7.07019095  68.11959377]    \t[ 0.  0.]\t[  20.          184.06324853]  \n"
     ]
    }
   ],
   "source": [
    "pop, stats, hof = main()"
   ]
  },
  {
   "cell_type": "markdown",
   "metadata": {},
   "source": [
    "# NEXT TIME: MICROBIAL GA FOR REAL VALUES."
   ]
  }
 ],
 "metadata": {
  "kernelspec": {
   "display_name": "Python [conda env:pendulum_v0_py3]",
   "language": "python",
   "name": "conda-env-pendulum_v0_py3-py"
  },
  "language_info": {
   "codemirror_mode": {
    "name": "ipython",
    "version": 3
   },
   "file_extension": ".py",
   "mimetype": "text/x-python",
   "name": "python",
   "nbconvert_exporter": "python",
   "pygments_lexer": "ipython3",
   "version": "3.6.2"
  }
 },
 "nbformat": 4,
 "nbformat_minor": 2
}
