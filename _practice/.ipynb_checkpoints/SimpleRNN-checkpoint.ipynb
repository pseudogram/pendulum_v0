{
 "cells": [
  {
   "cell_type": "markdown",
   "metadata": {},
   "source": [
    "# Simple Recurrent Neural Network in Tensorflow."
   ]
  },
  {
   "cell_type": "code",
   "execution_count": 4,
   "metadata": {},
   "outputs": [
    {
     "name": "stdout",
     "output_type": "stream",
     "text": [
      "hello [[ 0.09249833  0.15170913 -0.01511813 ...,  0.04590389 -0.04743825\n",
      "   0.07916743]\n",
      " [-0.09012979 -0.00477736  0.17019583 ..., -0.11559815 -0.11083899\n",
      "  -0.12869423]\n",
      " [-0.04000157  0.02399623  0.09295775 ...,  0.14000216 -0.04716464\n",
      "   0.07413628]\n",
      " ..., \n",
      " [ 0.20973901 -0.33070347 -0.06256061 ..., -0.20163097 -0.03173101\n",
      "   0.03625428]\n",
      " [ 0.06440752 -0.03691634  0.06238403 ...,  0.06557491 -0.05043137\n",
      "  -0.13834044]\n",
      " [-0.03077887 -0.01132691 -0.03935191 ...,  0.01217639  0.0246101\n",
      "   0.13454899]]\n"
     ]
    }
   ],
   "source": [
    "import tensorflow as tf\n",
    "import numpy as np\n",
    "from pprint import pprint\n",
    "\n",
    "dt = 0.05\n",
    "num_inputs = 3\n",
    "num_outputs = 1\n",
    "num_nodes = 100\n",
    "num_epochs = 1000\n",
    "initial_state = np.random.randn(num_nodes,1) #tf.zeros([num_nodes,1],dtype=tf.float32)\n",
    "\n",
    "# Set parameters\n",
    "# np.random.seed(22)\n",
    "set_weights = np.random.randn(num_nodes+num_outputs,num_nodes)*0.1\n",
    "print(\"hello\",set_weights)\n",
    "# set_weights = np.array([[1.1,  -1],\n",
    "#                         [ -1, 1.1],\n",
    "#                         [  0,   1]],dtype=np.float32)\n",
    "\n",
    "set_bias = np.zeros([num_nodes+num_outputs,1],dtype=np.float32)\n",
    "\n",
    "# Define nodes and variables\n",
    "_input = tf.placeholder(tf.float32,[num_inputs,1])  # Dim 1 = 1 as this is a dynamic task that only takes one input at a time\n",
    "_input_buffer = tf.zeros([num_nodes-num_inputs,1],dtype=tf.float32)\n",
    "\n",
    "I = tf.concat([_input,_input_buffer],0)\n",
    "\n",
    "W = tf.Variable(set_weights, dtype=tf.float32) # could be a constant...\n",
    "b = tf.Variable(set_bias, dtype=tf.float32)\n",
    "\n",
    "state = tf.Variable(initial_state,dtype=tf.float32)\n",
    "\n",
    "\n",
    "# Make model\n",
    "Wx = tf.matmul(W,state)\n",
    "Wx_b = Wx+b\n",
    "recurrence, output = tf.split(Wx_b,[num_nodes,num_outputs],0)\n",
    "\n",
    "output = tf.tanh(output) * 2\n",
    "\n",
    "next_state = state + dt * (-state+tf.tanh(recurrence + I))\n",
    "\n",
    "update_state = state.assign(next_state)\n",
    "\n",
    "\n",
    "with tf.Session() as sess:\n",
    "    init = tf.global_variables_initializer()\n",
    "    sess.run(init)\n",
    "    \n",
    "#     print(I.eval(session=sess))\n",
    "    \n",
    "    \n",
    "    out_list = list()\n",
    "#     _in = np.random.randn(num_inputs,1)\n",
    "    _in = np.zeros([num_inputs,1],dtype=np.float32)\n",
    "    for epoch in range(num_epochs):\n",
    "        _, out = sess.run([update_state, output],feed_dict={_input:_in})\n",
    "        out_list.append(out)\n",
    "\n",
    "# pprint(out_list)"
   ]
  },
  {
   "cell_type": "code",
   "execution_count": 74,
   "metadata": {},
   "outputs": [
    {
     "data": {
      "image/png": "[encoded data removed]",
      "text/plain": [
       "<matplotlib.figure.Figure at 0x118d315c0>"
      ]
     },
     "metadata": {},
     "output_type": "display_data"
    }
   ],
   "source": [
    "import matplotlib.pyplot as plt\n",
    "\n",
    "x = [_[0][0] for _ in out_list]\n",
    "\n",
    "plt.plot(x)\n",
    "plt.show()"
   ]
  },
  {
   "cell_type": "code",
   "execution_count": 42,
   "metadata": {},
   "outputs": [
    {
     "data": {
      "text/plain": [
       "array([[[-0.09756346, -0.88652934, -0.13671324]]])"
      ]
     },
     "execution_count": 42,
     "metadata": {},
     "output_type": "execute_result"
    }
   ],
   "source": [
    "np.random.randn(1,1,3)"
   ]
  },
  {
   "cell_type": "code",
   "execution_count": null,
   "metadata": {},
   "outputs": [],
   "source": []
  }
 ],
 "metadata": {
  "kernelspec": {
   "display_name": "Python [conda env:pendulum_v0_py3]",
   "language": "python",
   "name": "conda-env-pendulum_v0_py3-py"
  },
  "language_info": {
   "codemirror_mode": {
    "name": "ipython",
    "version": 3
   },
   "file_extension": ".py",
   "mimetype": "text/x-python",
   "name": "python",
   "nbconvert_exporter": "python",
   "pygments_lexer": "ipython3",
   "version": "3.6.2"
  }
 },
 "nbformat": 4,
 "nbformat_minor": 2
}
